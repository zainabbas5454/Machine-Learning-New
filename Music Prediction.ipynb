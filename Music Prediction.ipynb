{
 "cells": [
  {
   "cell_type": "markdown",
   "id": "27d3b8b5",
   "metadata": {},
   "source": [
    "# Music Prediction System\n",
    "This system predicts the music taste of male and female of different ages\n"
   ]
  },
  {
   "cell_type": "code",
   "execution_count": 14,
   "id": "2bba1f59",
   "metadata": {},
   "outputs": [
    {
     "data": {
      "text/plain": [
       "0        HipHop\n",
       "1        HipHop\n",
       "2        HipHop\n",
       "3          Jazz\n",
       "4          Jazz\n",
       "5          Jazz\n",
       "6     Classical\n",
       "7     Classical\n",
       "8     Classical\n",
       "9         Dance\n",
       "10        Dance\n",
       "11        Dance\n",
       "12     Acoustic\n",
       "13     Acoustic\n",
       "14     Acoustic\n",
       "15    Classical\n",
       "16    Classical\n",
       "17    Classical\n",
       "Name: genre, dtype: object"
      ]
     },
     "execution_count": 14,
     "metadata": {},
     "output_type": "execute_result"
    }
   ],
   "source": [
    "#importing pandas library\n",
    "import pandas as pd\n",
    "#reading music dataset\n",
    "music_data = pd.read_csv('music.csv')\n"
   ]
  },
  {
   "cell_type": "code",
   "execution_count": 16,
   "id": "b29e8577",
   "metadata": {},
   "outputs": [],
   "source": [
    "#printing music data set\n",
    "#while dropping column you have to store in a variable after applying drop function....else the dropped column also shown in the dataset\n",
    "X = music_data.drop(columns=['genre'])\n",
    "#only include genre column\n",
    "Y = music_data['genre']\n"
   ]
  },
  {
   "cell_type": "code",
   "execution_count": 41,
   "id": "0a51bd84",
   "metadata": {},
   "outputs": [
    {
     "name": "stdout",
     "output_type": "stream",
     "text": [
      "Enter your age: 15\n",
      "Enter your gender, for 'male' enter 1, for 'female' enter 0: 1\n",
      "['You like: HipHop music']\n"
     ]
    }
   ],
   "source": [
    "from sklearn.tree import DecisionTreeClassifier\n",
    "#initiating model\n",
    "model = DecisionTreeClassifier()\n",
    "#fitting dataset\n",
    "model.fit(X,Y)\n",
    "#prediction\n",
    "age = int(input(\"Enter your age: \"))\n",
    "gender = int(input(\"Enter your gender, for 'male' enter 1, for 'female' enter 0: \"))\n",
    "prediction = model.predict([[age,gender]])\n",
    "print(\"You like: \"+prediction+\" music\")"
   ]
  },
  {
   "cell_type": "markdown",
   "id": "c916fe42",
   "metadata": {},
   "source": [
    "# Calculating Accuracy of Model\n",
    "In large datasets we have to calculate the accuracy of the model which should in between 0 to 1, 0 means that we have to change the model, it is absoulutely not accurate, while 1 means most accurate model. Values near to 1 means model is accurate while values near to 0 means model is not accurate\n"
   ]
  },
  {
   "cell_type": "code",
   "execution_count": 37,
   "id": "fbdb18df",
   "metadata": {},
   "outputs": [
    {
     "name": "stdout",
     "output_type": "stream",
     "text": [
      "1.0\n"
     ]
    }
   ],
   "source": [
    "#split dataset into two sets i-e train and test\n",
    "from sklearn.model_selection import train_test_split\n",
    "from sklearn.metrics import accuracy_score\n",
    "#test_size means that 20% of data is used for testing and 80% is used for training\n",
    "X_train,X_test,Y_train,Y_test = train_test_split(X,Y,test_size=0.2)\n",
    "#passing the training dataset for model training\n",
    "model.fit(X_train,Y_train)\n",
    "# passing test data set to check prediction\n",
    "predictions1 = model.predict(X_test)\n",
    "\n",
    "#checking accuracy by comparing predictions1 variable with Y_test\n",
    "score = accuracy_score(Y_test, predictions1) \n",
    "print(score)\n"
   ]
  },
  {
   "cell_type": "markdown",
   "id": "b931116d",
   "metadata": {},
   "source": [
    "# Notes\n",
    "As train_test_split split dataset randomly into training and testing so everytime we run the above cell accuracy score may vary\n",
    "If we increase the test size of dataset then also the accuracy become low because less data is used for model training and more data is used for testing"
   ]
  },
  {
   "cell_type": "code",
   "execution_count": null,
   "id": "6297fc8c",
   "metadata": {},
   "outputs": [],
   "source": []
  }
 ],
 "metadata": {
  "kernelspec": {
   "display_name": "Python 3 (ipykernel)",
   "language": "python",
   "name": "python3"
  },
  "language_info": {
   "codemirror_mode": {
    "name": "ipython",
    "version": 3
   },
   "file_extension": ".py",
   "mimetype": "text/x-python",
   "name": "python",
   "nbconvert_exporter": "python",
   "pygments_lexer": "ipython3",
   "version": "3.9.7"
  }
 },
 "nbformat": 4,
 "nbformat_minor": 5
}
